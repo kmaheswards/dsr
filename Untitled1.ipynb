{
 "cells": [
  {
   "cell_type": "code",
   "execution_count": 1,
   "id": "fac65cf9",
   "metadata": {},
   "outputs": [
    {
     "name": "stdout",
     "output_type": "stream",
     "text": [
      "The Zen of Python, by Tim Peters\n",
      "\n",
      "Beautiful is better than ugly.\n",
      "Explicit is better than implicit.\n",
      "Simple is better than complex.\n",
      "Complex is better than complicated.\n",
      "Flat is better than nested.\n",
      "Sparse is better than dense.\n",
      "Readability counts.\n",
      "Special cases aren't special enough to break the rules.\n",
      "Although practicality beats purity.\n",
      "Errors should never pass silently.\n",
      "Unless explicitly silenced.\n",
      "In the face of ambiguity, refuse the temptation to guess.\n",
      "There should be one-- and preferably only one --obvious way to do it.\n",
      "Although that way may not be obvious at first unless you're Dutch.\n",
      "Now is better than never.\n",
      "Although never is often better than *right* now.\n",
      "If the implementation is hard to explain, it's a bad idea.\n",
      "If the implementation is easy to explain, it may be a good idea.\n",
      "Namespaces are one honking great idea -- let's do more of those!\n"
     ]
    }
   ],
   "source": [
    "import this"
   ]
  },
  {
   "cell_type": "code",
   "execution_count": null,
   "id": "a8f8d3d9",
   "metadata": {},
   "outputs": [],
   "source": []
  },
  {
   "cell_type": "code",
   "execution_count": 2,
   "id": "72d0e25e",
   "metadata": {},
   "outputs": [
    {
     "name": "stdout",
     "output_type": "stream",
     "text": [
      "This is my First Program\n"
     ]
    }
   ],
   "source": [
    "print('This is my First Program')"
   ]
  },
  {
   "cell_type": "code",
   "execution_count": 3,
   "id": "93f137de",
   "metadata": {},
   "outputs": [
    {
     "ename": "NameError",
     "evalue": "name 'dkjk' is not defined",
     "output_type": "error",
     "traceback": [
      "\u001b[1;31m---------------------------------------------------------------------------\u001b[0m",
      "\u001b[1;31mNameError\u001b[0m                                 Traceback (most recent call last)",
      "\u001b[1;32m~\\AppData\\Local\\Temp/ipykernel_10372/49229160.py\u001b[0m in \u001b[0;36m<module>\u001b[1;34m\u001b[0m\n\u001b[1;32m----> 1\u001b[1;33m \u001b[0mlen\u001b[0m\u001b[1;33m(\u001b[0m\u001b[0mdkjk\u001b[0m\u001b[1;33m,\u001b[0m\u001b[0md\u001b[0m\u001b[1;33m)\u001b[0m\u001b[1;33m\u001b[0m\u001b[1;33m\u001b[0m\u001b[0m\n\u001b[0m",
      "\u001b[1;31mNameError\u001b[0m: name 'dkjk' is not defined"
     ]
    }
   ],
   "source": [
    "len(dkjk,d)"
   ]
  },
  {
   "cell_type": "code",
   "execution_count": null,
   "id": "aa7990bb",
   "metadata": {},
   "outputs": [],
   "source": [
    "1+2"
   ]
  },
  {
   "cell_type": "code",
   "execution_count": null,
   "id": "f51a7c0b",
   "metadata": {},
   "outputs": [],
   "source": [
    "3/7"
   ]
  },
  {
   "cell_type": "code",
   "execution_count": null,
   "id": "cfcb38fa",
   "metadata": {},
   "outputs": [],
   "source": [
    "a = 10"
   ]
  },
  {
   "cell_type": "code",
   "execution_count": null,
   "id": "50b92073",
   "metadata": {},
   "outputs": [],
   "source": [
    "1+2"
   ]
  },
  {
   "cell_type": "code",
   "execution_count": null,
   "id": "da75b694",
   "metadata": {},
   "outputs": [],
   "source": [
    "a+2"
   ]
  },
  {
   "cell_type": "code",
   "execution_count": null,
   "id": "05ef87b7",
   "metadata": {},
   "outputs": [],
   "source": [
    "b=1"
   ]
  },
  {
   "cell_type": "code",
   "execution_count": null,
   "id": "6e83543e",
   "metadata": {},
   "outputs": [],
   "source": [
    "a+b"
   ]
  },
  {
   "cell_type": "code",
   "execution_count": null,
   "id": "6f34739d",
   "metadata": {},
   "outputs": [],
   "source": [
    "a"
   ]
  },
  {
   "cell_type": "code",
   "execution_count": null,
   "id": "f85f3dad",
   "metadata": {},
   "outputs": [],
   "source": [
    "type(a)"
   ]
  },
  {
   "cell_type": "code",
   "execution_count": null,
   "id": "d7f5ff62",
   "metadata": {},
   "outputs": [],
   "source": [
    "b = 3.4"
   ]
  },
  {
   "cell_type": "code",
   "execution_count": null,
   "id": "7bd6e11a",
   "metadata": {},
   "outputs": [],
   "source": [
    "type(b)"
   ]
  },
  {
   "cell_type": "code",
   "execution_count": null,
   "id": "8061f95f",
   "metadata": {},
   "outputs": [],
   "source": [
    "c=\"kaku\""
   ]
  },
  {
   "cell_type": "code",
   "execution_count": null,
   "id": "99f84a78",
   "metadata": {},
   "outputs": [],
   "source": [
    "type(c)"
   ]
  },
  {
   "cell_type": "code",
   "execution_count": null,
   "id": "ec284941",
   "metadata": {},
   "outputs": [],
   "source": [
    "d=5+6j"
   ]
  },
  {
   "cell_type": "code",
   "execution_count": null,
   "id": "49ca4aa1",
   "metadata": {},
   "outputs": [],
   "source": [
    "type(d)"
   ]
  },
  {
   "cell_type": "code",
   "execution_count": null,
   "id": "572efed8",
   "metadata": {},
   "outputs": [],
   "source": [
    "e='kak'"
   ]
  },
  {
   "cell_type": "code",
   "execution_count": null,
   "id": "f826806c",
   "metadata": {},
   "outputs": [],
   "source": [
    "type(e)"
   ]
  },
  {
   "cell_type": "code",
   "execution_count": null,
   "id": "2dddbab3",
   "metadata": {},
   "outputs": [],
   "source": [
    "e"
   ]
  },
  {
   "cell_type": "code",
   "execution_count": null,
   "id": "4d2a733d",
   "metadata": {},
   "outputs": [],
   "source": [
    "n=\"fjsjfsdfjsdjfj\""
   ]
  },
  {
   "cell_type": "code",
   "execution_count": null,
   "id": "42bce8f9",
   "metadata": {},
   "outputs": [],
   "source": [
    "k='l'"
   ]
  },
  {
   "cell_type": "code",
   "execution_count": null,
   "id": "eda009a4",
   "metadata": {},
   "outputs": [],
   "source": [
    "type(k)"
   ]
  },
  {
   "cell_type": "code",
   "execution_count": null,
   "id": "8883c6ca",
   "metadata": {},
   "outputs": [],
   "source": [
    "g=True"
   ]
  },
  {
   "cell_type": "code",
   "execution_count": null,
   "id": "eb7027f1",
   "metadata": {},
   "outputs": [],
   "source": [
    "type(g)"
   ]
  },
  {
   "cell_type": "code",
   "execution_count": null,
   "id": "4c8da6ea",
   "metadata": {},
   "outputs": [],
   "source": [
    "*a = 67"
   ]
  },
  {
   "cell_type": "code",
   "execution_count": null,
   "id": "50c8a68d",
   "metadata": {},
   "outputs": [],
   "source": [
    "_a = 34"
   ]
  },
  {
   "cell_type": "code",
   "execution_count": null,
   "id": "3a3e6cb5",
   "metadata": {},
   "outputs": [],
   "source": [
    "type(_a)"
   ]
  },
  {
   "cell_type": "code",
   "execution_count": null,
   "id": "422041ee",
   "metadata": {},
   "outputs": [],
   "source": [
    "type(a)"
   ]
  },
  {
   "cell_type": "code",
   "execution_count": null,
   "id": "99b40c98",
   "metadata": {},
   "outputs": [],
   "source": [
    "a,b,c,d,e=234,\"kumar\",4+5j,False,345.45"
   ]
  },
  {
   "cell_type": "code",
   "execution_count": null,
   "id": "03dd8383",
   "metadata": {},
   "outputs": [],
   "source": [
    "c"
   ]
  },
  {
   "cell_type": "code",
   "execution_count": null,
   "id": "5822ec0f",
   "metadata": {},
   "outputs": [],
   "source": [
    "c.imag"
   ]
  },
  {
   "cell_type": "code",
   "execution_count": null,
   "id": "1ca39d51",
   "metadata": {},
   "outputs": [],
   "source": [
    "c.real"
   ]
  },
  {
   "cell_type": "code",
   "execution_count": null,
   "id": "9941a038",
   "metadata": {},
   "outputs": [],
   "source": [
    "b"
   ]
  },
  {
   "cell_type": "code",
   "execution_count": null,
   "id": "71e5d473",
   "metadata": {},
   "outputs": [],
   "source": [
    "b.capitalize"
   ]
  },
  {
   "cell_type": "code",
   "execution_count": null,
   "id": "915c8d0f",
   "metadata": {},
   "outputs": [],
   "source": [
    "b.capitalize(b)"
   ]
  },
  {
   "cell_type": "code",
   "execution_count": null,
   "id": "c0410ff1",
   "metadata": {},
   "outputs": [],
   "source": [
    "b.capitalize()"
   ]
  },
  {
   "cell_type": "code",
   "execution_count": null,
   "id": "a4b1f75f",
   "metadata": {},
   "outputs": [],
   "source": [
    "a=\"sudh\""
   ]
  },
  {
   "cell_type": "code",
   "execution_count": null,
   "id": "bc479355",
   "metadata": {},
   "outputs": [],
   "source": [
    "a+4"
   ]
  },
  {
   "cell_type": "code",
   "execution_count": null,
   "id": "3f0ec955",
   "metadata": {},
   "outputs": [],
   "source": [
    "a+\"4\""
   ]
  },
  {
   "cell_type": "code",
   "execution_count": null,
   "id": "7717ee63",
   "metadata": {},
   "outputs": [],
   "source": [
    "True+True"
   ]
  },
  {
   "cell_type": "code",
   "execution_count": null,
   "id": "649b8d21",
   "metadata": {},
   "outputs": [],
   "source": [
    "True + False"
   ]
  },
  {
   "cell_type": "code",
   "execution_count": null,
   "id": "08903753",
   "metadata": {},
   "outputs": [],
   "source": [
    "True - False"
   ]
  },
  {
   "cell_type": "code",
   "execution_count": null,
   "id": "d3c35cc1",
   "metadata": {},
   "outputs": [],
   "source": [
    "False - True"
   ]
  },
  {
   "cell_type": "code",
   "execution_count": null,
   "id": "b3623402",
   "metadata": {},
   "outputs": [],
   "source": [
    "1+True"
   ]
  },
  {
   "cell_type": "code",
   "execution_count": null,
   "id": "1e65503b",
   "metadata": {},
   "outputs": [],
   "source": [
    "1+False"
   ]
  },
  {
   "cell_type": "code",
   "execution_count": null,
   "id": "4d2de228",
   "metadata": {},
   "outputs": [],
   "source": [
    "1+False"
   ]
  },
  {
   "cell_type": "code",
   "execution_count": null,
   "id": "ca336c4b",
   "metadata": {},
   "outputs": [],
   "source": [
    "True+False"
   ]
  },
  {
   "cell_type": "code",
   "execution_count": null,
   "id": "fecb5b1f",
   "metadata": {},
   "outputs": [],
   "source": [
    "b"
   ]
  },
  {
   "cell_type": "code",
   "execution_count": null,
   "id": "6d858caa",
   "metadata": {},
   "outputs": [],
   "source": [
    "c"
   ]
  },
  {
   "cell_type": "code",
   "execution_count": null,
   "id": "caf63b29",
   "metadata": {},
   "outputs": [],
   "source": [
    "c.conjugate"
   ]
  },
  {
   "cell_type": "code",
   "execution_count": null,
   "id": "e7c83613",
   "metadata": {},
   "outputs": [],
   "source": [
    "b"
   ]
  },
  {
   "cell_type": "code",
   "execution_count": null,
   "id": "7c79cf86",
   "metadata": {},
   "outputs": [],
   "source": [
    "b.capitalize"
   ]
  },
  {
   "cell_type": "code",
   "execution_count": null,
   "id": "b2282536",
   "metadata": {},
   "outputs": [],
   "source": [
    "b.center"
   ]
  },
  {
   "cell_type": "code",
   "execution_count": null,
   "id": "6ad4784b",
   "metadata": {},
   "outputs": [],
   "source": [
    "input()"
   ]
  },
  {
   "cell_type": "code",
   "execution_count": null,
   "id": "0c0718b7",
   "metadata": {},
   "outputs": [],
   "source": [
    "a='sudh'"
   ]
  },
  {
   "cell_type": "code",
   "execution_count": null,
   "id": "f544b098",
   "metadata": {},
   "outputs": [],
   "source": [
    "a = input()"
   ]
  },
  {
   "cell_type": "code",
   "execution_count": null,
   "id": "dbd79adf",
   "metadata": {},
   "outputs": [],
   "source": [
    "a"
   ]
  },
  {
   "cell_type": "raw",
   "id": "6c84353f",
   "metadata": {},
   "source": [
    "a=input()"
   ]
  },
  {
   "cell_type": "code",
   "execution_count": null,
   "id": "a1e94308",
   "metadata": {},
   "outputs": [],
   "source": [
    "ergtrejtrete"
   ]
  },
  {
   "cell_type": "code",
   "execution_count": null,
   "id": "56d33484",
   "metadata": {},
   "outputs": [],
   "source": [
    "b=45"
   ]
  },
  {
   "cell_type": "code",
   "execution_count": null,
   "id": "73397114",
   "metadata": {},
   "outputs": [],
   "source": [
    "a+b"
   ]
  },
  {
   "cell_type": "code",
   "execution_count": null,
   "id": "ee3ca32c",
   "metadata": {},
   "outputs": [],
   "source": [
    "int(a) +b"
   ]
  },
  {
   "cell_type": "code",
   "execution_count": null,
   "id": "ef14e5b0",
   "metadata": {},
   "outputs": [],
   "source": [
    "c=int(a) + b - int(a)"
   ]
  },
  {
   "cell_type": "code",
   "execution_count": null,
   "id": "95b2b815",
   "metadata": {},
   "outputs": [],
   "source": [
    "c"
   ]
  },
  {
   "cell_type": "code",
   "execution_count": null,
   "id": "a9299ee5",
   "metadata": {},
   "outputs": [],
   "source": [
    "int('675865868')"
   ]
  },
  {
   "cell_type": "code",
   "execution_count": null,
   "id": "b70b4611",
   "metadata": {},
   "outputs": [],
   "source": [
    "int(4)"
   ]
  },
  {
   "cell_type": "code",
   "execution_count": 4,
   "id": "baa4641c",
   "metadata": {},
   "outputs": [
    {
     "data": {
      "text/plain": [
       "444"
      ]
     },
     "execution_count": 4,
     "metadata": {},
     "output_type": "execute_result"
    }
   ],
   "source": [
    "int('444')"
   ]
  },
  {
   "cell_type": "code",
   "execution_count": 5,
   "id": "0c486575",
   "metadata": {},
   "outputs": [
    {
     "data": {
      "text/plain": [
       "'555'"
      ]
     },
     "execution_count": 5,
     "metadata": {},
     "output_type": "execute_result"
    }
   ],
   "source": [
    "str(555)"
   ]
  },
  {
   "cell_type": "code",
   "execution_count": 6,
   "id": "582bd8c5",
   "metadata": {},
   "outputs": [
    {
     "data": {
      "text/plain": [
       "555"
      ]
     },
     "execution_count": 6,
     "metadata": {},
     "output_type": "execute_result"
    }
   ],
   "source": [
    "int(str(555))"
   ]
  },
  {
   "cell_type": "code",
   "execution_count": 7,
   "id": "b7b35622",
   "metadata": {},
   "outputs": [
    {
     "name": "stdout",
     "output_type": "stream",
     "text": [
      "fsdjfsfsjfjgjdjgdfj\n"
     ]
    }
   ],
   "source": [
    "a = input()"
   ]
  },
  {
   "cell_type": "code",
   "execution_count": 8,
   "id": "737592fa",
   "metadata": {},
   "outputs": [
    {
     "data": {
      "text/plain": [
       "'fsdjfsfsjfjgjdjgdfj'"
      ]
     },
     "execution_count": 8,
     "metadata": {},
     "output_type": "execute_result"
    }
   ],
   "source": [
    "a"
   ]
  },
  {
   "cell_type": "code",
   "execution_count": 9,
   "id": "447f5599",
   "metadata": {},
   "outputs": [
    {
     "name": "stdout",
     "output_type": "stream",
     "text": [
      "678\n"
     ]
    }
   ],
   "source": [
    "a=int(input())"
   ]
  },
  {
   "cell_type": "code",
   "execution_count": 10,
   "id": "9f7ed07d",
   "metadata": {},
   "outputs": [
    {
     "data": {
      "text/plain": [
       "678"
      ]
     },
     "execution_count": 10,
     "metadata": {},
     "output_type": "execute_result"
    }
   ],
   "source": [
    "a"
   ]
  },
  {
   "cell_type": "code",
   "execution_count": 11,
   "id": "04298f15",
   "metadata": {},
   "outputs": [
    {
     "name": "stdout",
     "output_type": "stream",
     "text": [
      "678\n"
     ]
    }
   ],
   "source": [
    "b=input()"
   ]
  },
  {
   "cell_type": "code",
   "execution_count": 12,
   "id": "ba9e4772",
   "metadata": {},
   "outputs": [
    {
     "data": {
      "text/plain": [
       "'678'"
      ]
     },
     "execution_count": 12,
     "metadata": {},
     "output_type": "execute_result"
    }
   ],
   "source": [
    "b"
   ]
  },
  {
   "cell_type": "code",
   "execution_count": 13,
   "id": "c4991183",
   "metadata": {},
   "outputs": [
    {
     "data": {
      "text/plain": [
       "'C:\\\\Users\\\\kakum'"
      ]
     },
     "execution_count": 13,
     "metadata": {},
     "output_type": "execute_result"
    }
   ],
   "source": [
    "pwd"
   ]
  },
  {
   "cell_type": "code",
   "execution_count": null,
   "id": "1c1d4e6e",
   "metadata": {},
   "outputs": [],
   "source": []
  }
 ],
 "metadata": {
  "kernelspec": {
   "display_name": "Python 3 (ipykernel)",
   "language": "python",
   "name": "python3"
  },
  "language_info": {
   "codemirror_mode": {
    "name": "ipython",
    "version": 3
   },
   "file_extension": ".py",
   "mimetype": "text/x-python",
   "name": "python",
   "nbconvert_exporter": "python",
   "pygments_lexer": "ipython3",
   "version": "3.9.7"
  }
 },
 "nbformat": 4,
 "nbformat_minor": 5
}
